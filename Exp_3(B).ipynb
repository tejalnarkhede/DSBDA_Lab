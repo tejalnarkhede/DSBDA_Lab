{
  "nbformat": 4,
  "nbformat_minor": 0,
  "metadata": {
    "colab": {
      "provenance": []
    },
    "kernelspec": {
      "name": "python3",
      "display_name": "Python 3"
    },
    "language_info": {
      "name": "python"
    }
  },
  "cells": [
    {
      "cell_type": "code",
      "execution_count": 4,
      "metadata": {
        "id": "xjyEe-KX7BYM"
      },
      "outputs": [],
      "source": [
        "import pandas as pd"
      ]
    },
    {
      "cell_type": "code",
      "source": [
        "df = pd.read_csv(\"https://raw.githubusercontent.com/YBI-Foundation/Dataset/main/IRIS.csv\")"
      ],
      "metadata": {
        "id": "1v4bVN_Y7T42"
      },
      "execution_count": 5,
      "outputs": []
    },
    {
      "cell_type": "code",
      "source": [
        "df.info()"
      ],
      "metadata": {
        "colab": {
          "base_uri": "https://localhost:8080/"
        },
        "id": "Fxrb7ArT7cgD",
        "outputId": "d5d68b3a-fd2f-4d33-8254-077a758866be"
      },
      "execution_count": 6,
      "outputs": [
        {
          "output_type": "stream",
          "name": "stdout",
          "text": [
            "<class 'pandas.core.frame.DataFrame'>\n",
            "RangeIndex: 150 entries, 0 to 149\n",
            "Data columns (total 5 columns):\n",
            " #   Column        Non-Null Count  Dtype  \n",
            "---  ------        --------------  -----  \n",
            " 0   sepal_length  150 non-null    float64\n",
            " 1   sepal_width   150 non-null    float64\n",
            " 2   petal_length  150 non-null    float64\n",
            " 3   petal_width   150 non-null    float64\n",
            " 4   species       150 non-null    object \n",
            "dtypes: float64(4), object(1)\n",
            "memory usage: 6.0+ KB\n"
          ]
        }
      ]
    },
    {
      "cell_type": "code",
      "source": [
        "df.mean()"
      ],
      "metadata": {
        "colab": {
          "base_uri": "https://localhost:8080/"
        },
        "id": "w1-Mi68k7iQO",
        "outputId": "1a723bec-1783-474d-cebd-4499f1806718"
      },
      "execution_count": 7,
      "outputs": [
        {
          "output_type": "stream",
          "name": "stderr",
          "text": [
            "<ipython-input-7-c61f0c8f89b5>:1: FutureWarning: The default value of numeric_only in DataFrame.mean is deprecated. In a future version, it will default to False. In addition, specifying 'numeric_only=None' is deprecated. Select only valid columns or specify the value of numeric_only to silence this warning.\n",
            "  df.mean()\n"
          ]
        },
        {
          "output_type": "execute_result",
          "data": {
            "text/plain": [
              "sepal_length    5.843333\n",
              "sepal_width     3.054000\n",
              "petal_length    3.758667\n",
              "petal_width     1.198667\n",
              "dtype: float64"
            ]
          },
          "metadata": {},
          "execution_count": 7
        }
      ]
    },
    {
      "cell_type": "code",
      "source": [
        "irisSet1 = (df['species']=='Iris-setosa')"
      ],
      "metadata": {
        "id": "nwL6uSP48QiZ"
      },
      "execution_count": null,
      "outputs": []
    },
    {
      "cell_type": "code",
      "source": [
        "print(df[irisSet1].describe())"
      ],
      "metadata": {
        "colab": {
          "base_uri": "https://localhost:8080/"
        },
        "id": "18Yyg9j4_52f",
        "outputId": "80c95348-8f7c-40f8-9288-07accdc61ff9"
      },
      "execution_count": null,
      "outputs": [
        {
          "output_type": "stream",
          "name": "stdout",
          "text": [
            "       sepal_length  sepal_width  petal_length  petal_width\n",
            "count      50.00000    50.000000     50.000000     50.00000\n",
            "mean        5.00600     3.418000      1.464000      0.24400\n",
            "std         0.35249     0.381024      0.173511      0.10721\n",
            "min         4.30000     2.300000      1.000000      0.10000\n",
            "25%         4.80000     3.125000      1.400000      0.20000\n",
            "50%         5.00000     3.400000      1.500000      0.20000\n",
            "75%         5.20000     3.675000      1.575000      0.30000\n",
            "max         5.80000     4.400000      1.900000      0.60000\n"
          ]
        }
      ]
    },
    {
      "cell_type": "code",
      "source": [
        "irisSet2 = (df['species']=='Iris-versicolor')"
      ],
      "metadata": {
        "id": "8tv9ogrDAGMu"
      },
      "execution_count": null,
      "outputs": []
    },
    {
      "cell_type": "code",
      "source": [
        "print(df[irisSet1].describe())"
      ],
      "metadata": {
        "colab": {
          "base_uri": "https://localhost:8080/"
        },
        "id": "A3_ongfaAPQs",
        "outputId": "6bfe42ea-498d-41b4-bcfb-ec9c43174d4c"
      },
      "execution_count": null,
      "outputs": [
        {
          "output_type": "stream",
          "name": "stdout",
          "text": [
            "       sepal_length  sepal_width  petal_length  petal_width\n",
            "count      50.00000    50.000000     50.000000     50.00000\n",
            "mean        5.00600     3.418000      1.464000      0.24400\n",
            "std         0.35249     0.381024      0.173511      0.10721\n",
            "min         4.30000     2.300000      1.000000      0.10000\n",
            "25%         4.80000     3.125000      1.400000      0.20000\n",
            "50%         5.00000     3.400000      1.500000      0.20000\n",
            "75%         5.20000     3.675000      1.575000      0.30000\n",
            "max         5.80000     4.400000      1.900000      0.60000\n"
          ]
        }
      ]
    },
    {
      "cell_type": "code",
      "source": [
        "irisSet3 = (df['species']=='Iris-virginica')"
      ],
      "metadata": {
        "id": "OhNevttiAZWe"
      },
      "execution_count": null,
      "outputs": []
    },
    {
      "cell_type": "code",
      "source": [
        "print(df[irisSet1].describe())"
      ],
      "metadata": {
        "colab": {
          "base_uri": "https://localhost:8080/"
        },
        "id": "jCuvfBjUAgNY",
        "outputId": "b8b3658b-edaa-45a1-9cd3-46f1698054cd"
      },
      "execution_count": null,
      "outputs": [
        {
          "output_type": "stream",
          "name": "stdout",
          "text": [
            "       sepal_length  sepal_width  petal_length  petal_width\n",
            "count      50.00000    50.000000     50.000000     50.00000\n",
            "mean        5.00600     3.418000      1.464000      0.24400\n",
            "std         0.35249     0.381024      0.173511      0.10721\n",
            "min         4.30000     2.300000      1.000000      0.10000\n",
            "25%         4.80000     3.125000      1.400000      0.20000\n",
            "50%         5.00000     3.400000      1.500000      0.20000\n",
            "75%         5.20000     3.675000      1.575000      0.30000\n",
            "max         5.80000     4.400000      1.900000      0.60000\n"
          ]
        }
      ]
    },
    {
      "cell_type": "code",
      "source": [
        "df.dtypes.value_counts()"
      ],
      "metadata": {
        "colab": {
          "base_uri": "https://localhost:8080/"
        },
        "id": "frK082bH6PRF",
        "outputId": "7201a5de-9c6b-4381-b17c-51a06e692e28"
      },
      "execution_count": 9,
      "outputs": [
        {
          "output_type": "execute_result",
          "data": {
            "text/plain": [
              "float64    4\n",
              "object     1\n",
              "dtype: int64"
            ]
          },
          "metadata": {},
          "execution_count": 9
        }
      ]
    }
  ]
}