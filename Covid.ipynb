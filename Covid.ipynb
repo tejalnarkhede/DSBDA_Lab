{
  "nbformat": 4,
  "nbformat_minor": 0,
  "metadata": {
    "colab": {
      "provenance": []
    },
    "kernelspec": {
      "name": "python3",
      "display_name": "Python 3"
    },
    "language_info": {
      "name": "python"
    }
  },
  "cells": [
    {
      "cell_type": "code",
      "execution_count": null,
      "metadata": {
        "id": "wA0UmXzaY46j"
      },
      "outputs": [],
      "source": [
        "import pandas as pd"
      ]
    },
    {
      "cell_type": "code",
      "source": [
        "df = pd.read_csv('https://drive.google.com/uc?export=download&id=1pCBCSEcPjDk-5kOlYF2yUM1ttEGABTB_')\n",
        "df = df[[\"State\", 'First Dose Administered', 'Second Dose Administered', 'Male (Doses Administered)', 'Female (Doses Administered)']]"
      ],
      "metadata": {
        "id": "oG46NMbcdKo_"
      },
      "execution_count": null,
      "outputs": []
    },
    {
      "cell_type": "code",
      "source": [
        "df.describe()"
      ],
      "metadata": {
        "colab": {
          "base_uri": "https://localhost:8080/",
          "height": 300
        },
        "id": "JShQuElYdSDM",
        "outputId": "23478ac8-cd6c-49ac-911d-09fe67fa0078"
      },
      "execution_count": null,
      "outputs": [
        {
          "output_type": "execute_result",
          "data": {
            "text/plain": [
              "       First Dose Administered  Second Dose Administered  \\\n",
              "count             7.621000e+03              7.621000e+03   \n",
              "mean              7.414415e+06              1.773755e+06   \n",
              "std               2.995209e+07              7.570382e+06   \n",
              "min               7.000000e+00              0.000000e+00   \n",
              "25%               1.166320e+05              1.283100e+04   \n",
              "50%               6.614590e+05              1.388180e+05   \n",
              "75%               5.387805e+06              1.166434e+06   \n",
              "max               4.001504e+08              1.130780e+08   \n",
              "\n",
              "       Male (Doses Administered)  Female (Doses Administered)  \n",
              "count               7.461000e+03                 7.461000e+03  \n",
              "mean                3.620156e+06                 3.168416e+06  \n",
              "std                 1.737938e+07                 1.515310e+07  \n",
              "min                 0.000000e+00                 2.000000e+00  \n",
              "25%                 5.655500e+04                 5.210700e+04  \n",
              "50%                 3.897850e+05                 3.342380e+05  \n",
              "75%                 2.735777e+06                 2.561513e+06  \n",
              "max                 2.701636e+08                 2.395186e+08  "
            ],
            "text/html": [
              "\n",
              "  <div id=\"df-9dd86894-1809-492c-893f-3afac34d146c\">\n",
              "    <div class=\"colab-df-container\">\n",
              "      <div>\n",
              "<style scoped>\n",
              "    .dataframe tbody tr th:only-of-type {\n",
              "        vertical-align: middle;\n",
              "    }\n",
              "\n",
              "    .dataframe tbody tr th {\n",
              "        vertical-align: top;\n",
              "    }\n",
              "\n",
              "    .dataframe thead th {\n",
              "        text-align: right;\n",
              "    }\n",
              "</style>\n",
              "<table border=\"1\" class=\"dataframe\">\n",
              "  <thead>\n",
              "    <tr style=\"text-align: right;\">\n",
              "      <th></th>\n",
              "      <th>First Dose Administered</th>\n",
              "      <th>Second Dose Administered</th>\n",
              "      <th>Male (Doses Administered)</th>\n",
              "      <th>Female (Doses Administered)</th>\n",
              "    </tr>\n",
              "  </thead>\n",
              "  <tbody>\n",
              "    <tr>\n",
              "      <th>count</th>\n",
              "      <td>7.621000e+03</td>\n",
              "      <td>7.621000e+03</td>\n",
              "      <td>7.461000e+03</td>\n",
              "      <td>7.461000e+03</td>\n",
              "    </tr>\n",
              "    <tr>\n",
              "      <th>mean</th>\n",
              "      <td>7.414415e+06</td>\n",
              "      <td>1.773755e+06</td>\n",
              "      <td>3.620156e+06</td>\n",
              "      <td>3.168416e+06</td>\n",
              "    </tr>\n",
              "    <tr>\n",
              "      <th>std</th>\n",
              "      <td>2.995209e+07</td>\n",
              "      <td>7.570382e+06</td>\n",
              "      <td>1.737938e+07</td>\n",
              "      <td>1.515310e+07</td>\n",
              "    </tr>\n",
              "    <tr>\n",
              "      <th>min</th>\n",
              "      <td>7.000000e+00</td>\n",
              "      <td>0.000000e+00</td>\n",
              "      <td>0.000000e+00</td>\n",
              "      <td>2.000000e+00</td>\n",
              "    </tr>\n",
              "    <tr>\n",
              "      <th>25%</th>\n",
              "      <td>1.166320e+05</td>\n",
              "      <td>1.283100e+04</td>\n",
              "      <td>5.655500e+04</td>\n",
              "      <td>5.210700e+04</td>\n",
              "    </tr>\n",
              "    <tr>\n",
              "      <th>50%</th>\n",
              "      <td>6.614590e+05</td>\n",
              "      <td>1.388180e+05</td>\n",
              "      <td>3.897850e+05</td>\n",
              "      <td>3.342380e+05</td>\n",
              "    </tr>\n",
              "    <tr>\n",
              "      <th>75%</th>\n",
              "      <td>5.387805e+06</td>\n",
              "      <td>1.166434e+06</td>\n",
              "      <td>2.735777e+06</td>\n",
              "      <td>2.561513e+06</td>\n",
              "    </tr>\n",
              "    <tr>\n",
              "      <th>max</th>\n",
              "      <td>4.001504e+08</td>\n",
              "      <td>1.130780e+08</td>\n",
              "      <td>2.701636e+08</td>\n",
              "      <td>2.395186e+08</td>\n",
              "    </tr>\n",
              "  </tbody>\n",
              "</table>\n",
              "</div>\n",
              "      <button class=\"colab-df-convert\" onclick=\"convertToInteractive('df-9dd86894-1809-492c-893f-3afac34d146c')\"\n",
              "              title=\"Convert this dataframe to an interactive table.\"\n",
              "              style=\"display:none;\">\n",
              "        \n",
              "  <svg xmlns=\"http://www.w3.org/2000/svg\" height=\"24px\"viewBox=\"0 0 24 24\"\n",
              "       width=\"24px\">\n",
              "    <path d=\"M0 0h24v24H0V0z\" fill=\"none\"/>\n",
              "    <path d=\"M18.56 5.44l.94 2.06.94-2.06 2.06-.94-2.06-.94-.94-2.06-.94 2.06-2.06.94zm-11 1L8.5 8.5l.94-2.06 2.06-.94-2.06-.94L8.5 2.5l-.94 2.06-2.06.94zm10 10l.94 2.06.94-2.06 2.06-.94-2.06-.94-.94-2.06-.94 2.06-2.06.94z\"/><path d=\"M17.41 7.96l-1.37-1.37c-.4-.4-.92-.59-1.43-.59-.52 0-1.04.2-1.43.59L10.3 9.45l-7.72 7.72c-.78.78-.78 2.05 0 2.83L4 21.41c.39.39.9.59 1.41.59.51 0 1.02-.2 1.41-.59l7.78-7.78 2.81-2.81c.8-.78.8-2.07 0-2.86zM5.41 20L4 18.59l7.72-7.72 1.47 1.35L5.41 20z\"/>\n",
              "  </svg>\n",
              "      </button>\n",
              "      \n",
              "  <style>\n",
              "    .colab-df-container {\n",
              "      display:flex;\n",
              "      flex-wrap:wrap;\n",
              "      gap: 12px;\n",
              "    }\n",
              "\n",
              "    .colab-df-convert {\n",
              "      background-color: #E8F0FE;\n",
              "      border: none;\n",
              "      border-radius: 50%;\n",
              "      cursor: pointer;\n",
              "      display: none;\n",
              "      fill: #1967D2;\n",
              "      height: 32px;\n",
              "      padding: 0 0 0 0;\n",
              "      width: 32px;\n",
              "    }\n",
              "\n",
              "    .colab-df-convert:hover {\n",
              "      background-color: #E2EBFA;\n",
              "      box-shadow: 0px 1px 2px rgba(60, 64, 67, 0.3), 0px 1px 3px 1px rgba(60, 64, 67, 0.15);\n",
              "      fill: #174EA6;\n",
              "    }\n",
              "\n",
              "    [theme=dark] .colab-df-convert {\n",
              "      background-color: #3B4455;\n",
              "      fill: #D2E3FC;\n",
              "    }\n",
              "\n",
              "    [theme=dark] .colab-df-convert:hover {\n",
              "      background-color: #434B5C;\n",
              "      box-shadow: 0px 1px 3px 1px rgba(0, 0, 0, 0.15);\n",
              "      filter: drop-shadow(0px 1px 2px rgba(0, 0, 0, 0.3));\n",
              "      fill: #FFFFFF;\n",
              "    }\n",
              "  </style>\n",
              "\n",
              "      <script>\n",
              "        const buttonEl =\n",
              "          document.querySelector('#df-9dd86894-1809-492c-893f-3afac34d146c button.colab-df-convert');\n",
              "        buttonEl.style.display =\n",
              "          google.colab.kernel.accessAllowed ? 'block' : 'none';\n",
              "\n",
              "        async function convertToInteractive(key) {\n",
              "          const element = document.querySelector('#df-9dd86894-1809-492c-893f-3afac34d146c');\n",
              "          const dataTable =\n",
              "            await google.colab.kernel.invokeFunction('convertToInteractive',\n",
              "                                                     [key], {});\n",
              "          if (!dataTable) return;\n",
              "\n",
              "          const docLinkHtml = 'Like what you see? Visit the ' +\n",
              "            '<a target=\"_blank\" href=https://colab.research.google.com/notebooks/data_table.ipynb>data table notebook</a>'\n",
              "            + ' to learn more about interactive tables.';\n",
              "          element.innerHTML = '';\n",
              "          dataTable['output_type'] = 'display_data';\n",
              "          await google.colab.output.renderOutput(dataTable, element);\n",
              "          const docLink = document.createElement('div');\n",
              "          docLink.innerHTML = docLinkHtml;\n",
              "          element.appendChild(docLink);\n",
              "        }\n",
              "      </script>\n",
              "    </div>\n",
              "  </div>\n",
              "  "
            ]
          },
          "metadata": {},
          "execution_count": 3
        }
      ]
    },
    {
      "cell_type": "code",
      "source": [
        "doses_by_state = df.groupby('State')"
      ],
      "metadata": {
        "id": "Ye52LJeBdKgr"
      },
      "execution_count": null,
      "outputs": []
    },
    {
      "cell_type": "code",
      "source": [
        "print('Number of persons state wise vaccinated for first dose in India:')\n",
        "doses_by_state['First Dose Administered'].sum()"
      ],
      "metadata": {
        "colab": {
          "base_uri": "https://localhost:8080/"
        },
        "id": "PyfJcBpNdjhL",
        "outputId": "dc868aff-d44f-4cb4-cf11-9960dc42bc37"
      },
      "execution_count": null,
      "outputs": [
        {
          "output_type": "stream",
          "name": "stdout",
          "text": [
            "Number of persons state wise vaccinated for first dose in India:\n"
          ]
        },
        {
          "output_type": "execute_result",
          "data": {
            "text/plain": [
              "State\n",
              "Andaman and Nicobar Islands                 1.642585e+07\n",
              "Andhra Pradesh                              1.232861e+09\n",
              "Arunachal Pradesh                           4.900498e+07\n",
              "Assam                                       5.856002e+08\n",
              "Bihar                                       1.470503e+09\n",
              "Chandigarh                                  4.470310e+07\n",
              "Chhattisgarh                                7.960029e+08\n",
              "Dadra and Nagar Haveli and Daman and Diu    3.359506e+07\n",
              "Delhi                                       6.243395e+08\n",
              "Goa                                         7.599137e+07\n",
              "Gujarat                                     2.131646e+09\n",
              "Haryana                                     7.557984e+08\n",
              "Himachal Pradesh                            3.162940e+08\n",
              "India                                       2.826214e+10\n",
              "Jammu and Kashmir                           4.101018e+08\n",
              "Jharkhand                                   6.036737e+08\n",
              "Karnataka                                   1.873330e+09\n",
              "Kerala                                      1.193845e+09\n",
              "Ladakh                                      1.780925e+07\n",
              "Lakshadweep                                 4.363655e+06\n",
              "Madhya Pradesh                              1.796605e+09\n",
              "Maharashtra                                 2.784364e+09\n",
              "Manipur                                     6.740957e+07\n",
              "Meghalaya                                   6.261597e+07\n",
              "Mizoram                                     4.787308e+07\n",
              "Nagaland                                    4.241077e+07\n",
              "Odisha                                      1.032633e+09\n",
              "Puducherry                                  4.134686e+07\n",
              "Punjab                                      5.843466e+08\n",
              "Rajasthan                                   2.201044e+09\n",
              "Sikkim                                      3.698093e+07\n",
              "Tamil Nadu                                  1.288533e+09\n",
              "Telangana                                   8.803206e+08\n",
              "Tripura                                     1.926897e+08\n",
              "Uttar Pradesh                               2.788411e+09\n",
              "Uttarakhand                                 3.631914e+08\n",
              "West Bengal                                 1.796450e+09\n",
              "Name: First Dose Administered, dtype: float64"
            ]
          },
          "metadata": {},
          "execution_count": 5
        }
      ]
    },
    {
      "cell_type": "code",
      "source": [
        "print('Number of persons state wise vaccinated for second dose in India:')\n",
        "doses_by_state['Second Dose Administered'].sum()"
      ],
      "metadata": {
        "colab": {
          "base_uri": "https://localhost:8080/"
        },
        "id": "DuYAZG7-d05U",
        "outputId": "0f0e3a7a-0979-4c48-de1e-2bec14cfef1b"
      },
      "execution_count": null,
      "outputs": [
        {
          "output_type": "stream",
          "name": "stdout",
          "text": [
            "Number of persons state wise vaccinated for second dose in India:\n"
          ]
        },
        {
          "output_type": "execute_result",
          "data": {
            "text/plain": [
              "State\n",
              "Andaman and Nicobar Islands                 4.118554e+06\n",
              "Andhra Pradesh                              3.588176e+08\n",
              "Arunachal Pradesh                           1.193232e+07\n",
              "Assam                                       1.307888e+08\n",
              "Bihar                                       2.707906e+08\n",
              "Chandigarh                                  1.159374e+07\n",
              "Chhattisgarh                                1.721204e+08\n",
              "Dadra and Nagar Haveli and Daman and Diu    4.594416e+06\n",
              "Delhi                                       1.882189e+08\n",
              "Goa                                         1.619817e+07\n",
              "Gujarat                                     6.004184e+08\n",
              "Haryana                                     1.586561e+08\n",
              "Himachal Pradesh                            7.383858e+07\n",
              "India                                       6.759621e+09\n",
              "Jammu and Kashmir                           8.595165e+07\n",
              "Jharkhand                                   1.221211e+08\n",
              "Karnataka                                   4.271872e+08\n",
              "Kerala                                      3.640488e+08\n",
              "Ladakh                                      5.453762e+06\n",
              "Lakshadweep                                 1.056446e+06\n",
              "Madhya Pradesh                              3.169330e+08\n",
              "Maharashtra                                 7.128811e+08\n",
              "Manipur                                     1.185815e+07\n",
              "Meghalaya                                   1.216663e+07\n",
              "Mizoram                                     9.998418e+06\n",
              "Nagaland                                    9.204637e+06\n",
              "Odisha                                      2.513028e+08\n",
              "Puducherry                                  8.608859e+06\n",
              "Punjab                                      1.211210e+08\n",
              "Rajasthan                                   4.917030e+08\n",
              "Sikkim                                      9.723640e+06\n",
              "Tamil Nadu                                  2.906706e+08\n",
              "Telangana                                   1.981529e+08\n",
              "Tripura                                     6.527014e+07\n",
              "Uttar Pradesh                               5.544351e+08\n",
              "Uttarakhand                                 1.000850e+08\n",
              "West Bengal                                 5.861469e+08\n",
              "Name: Second Dose Administered, dtype: float64"
            ]
          },
          "metadata": {},
          "execution_count": 6
        }
      ]
    },
    {
      "cell_type": "code",
      "source": [
        "males_vaccinated = df['Male (Doses Administered)'].sum()\n",
        "print('Number of males vaccinated:', males_vaccinated)\n",
        "\n",
        "females_vaccinated = df['Female (Doses Administered)'].sum()\n",
        "print('Number of females vaccinated:', females_vaccinated)"
      ],
      "metadata": {
        "colab": {
          "base_uri": "https://localhost:8080/"
        },
        "id": "o8DVB0iReE4i",
        "outputId": "cca54659-196b-4a53-b9a4-a953831b034e"
      },
      "execution_count": null,
      "outputs": [
        {
          "output_type": "stream",
          "name": "stdout",
          "text": [
            "Number of males vaccinated: 27009983996.0\n",
            "Number of females vaccinated: 23639554465.0\n"
          ]
        }
      ]
    }
  ]
}