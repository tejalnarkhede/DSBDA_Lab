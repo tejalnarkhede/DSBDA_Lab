{
  "nbformat": 4,
  "nbformat_minor": 0,
  "metadata": {
    "colab": {
      "provenance": [],
      "gpuType": "T4"
    },
    "kernelspec": {
      "name": "python3",
      "display_name": "Python 3"
    },
    "language_info": {
      "name": "python"
    },
    "gpuClass": "standard",
    "accelerator": "GPU"
  },
  "cells": [
    {
      "cell_type": "code",
      "execution_count": null,
      "metadata": {
        "colab": {
          "base_uri": "https://localhost:8080/"
        },
        "id": "xwFgqjrFS8zU",
        "outputId": "83670cc9-5019-4bfc-fe31-3078eb78818a"
      },
      "outputs": [
        {
          "output_type": "stream",
          "name": "stderr",
          "text": [
            "[nltk_data] Downloading package punkt to /root/nltk_data...\n",
            "[nltk_data]   Unzipping tokenizers/punkt.zip.\n",
            "[nltk_data] Downloading package stopwords to /root/nltk_data...\n",
            "[nltk_data]   Unzipping corpora/stopwords.zip.\n"
          ]
        }
      ],
      "source": [
        "import numpy as np\n",
        "import pandas as pd\n",
        "import matplotlib.pyplot as plt\n",
        "import seaborn as sns\n",
        "from wordcloud import WordCloud\n",
        "import time\n",
        "import nltk\n",
        "import re\n",
        "import string\n",
        "from nltk.corpus import stopwords\n",
        "nltk.download('punkt')\n",
        "nltk.download('stopwords')\n",
        "from nltk.tokenize import word_tokenize\n",
        "\n",
        "stop_words = stopwords.words()"
      ]
    },
    {
      "cell_type": "code",
      "source": [
        "t1 = time.time()\n",
        "df = pd.read_csv('/content/drive/MyDrive/Dataset/data_science.csv')\n",
        "t2 = time.time()\n",
        "print('Elapsed time [s]: ', np.round(t2-t1,2))"
      ],
      "metadata": {
        "colab": {
          "base_uri": "https://localhost:8080/"
        },
        "id": "1iu7eXWITmuq",
        "outputId": "7de00837-9adc-4f52-8d5f-93a9a5b6eda9"
      },
      "execution_count": null,
      "outputs": [
        {
          "output_type": "stream",
          "name": "stdout",
          "text": [
            "Elapsed time [s]:  6.56\n"
          ]
        }
      ]
    },
    {
      "cell_type": "code",
      "source": [
        "df.info()"
      ],
      "metadata": {
        "colab": {
          "base_uri": "https://localhost:8080/"
        },
        "id": "Ny0FMVs5YYoO",
        "outputId": "4683f3bb-1750-43aa-e127-4fb29ab2bf74"
      },
      "execution_count": null,
      "outputs": [
        {
          "output_type": "stream",
          "name": "stdout",
          "text": [
            "<class 'pandas.core.frame.DataFrame'>\n",
            "RangeIndex: 228487 entries, 0 to 228486\n",
            "Data columns (total 36 columns):\n",
            " #   Column           Non-Null Count   Dtype  \n",
            "---  ------           --------------   -----  \n",
            " 0   id               228487 non-null  float64\n",
            " 1   conversation_id  228487 non-null  float64\n",
            " 2   created_at       228487 non-null  object \n",
            " 3   date             228487 non-null  object \n",
            " 4   time             228487 non-null  object \n",
            " 5   timezone         228487 non-null  int64  \n",
            " 6   user_id          228487 non-null  float64\n",
            " 7   username         228487 non-null  object \n",
            " 8   name             228487 non-null  object \n",
            " 9   place            348 non-null     object \n",
            " 10  tweet            228487 non-null  object \n",
            " 11  language         228487 non-null  object \n",
            " 12  mentions         228487 non-null  object \n",
            " 13  urls             228487 non-null  object \n",
            " 14  photos           228487 non-null  object \n",
            " 15  replies_count    228487 non-null  int64  \n",
            " 16  retweets_count   228487 non-null  int64  \n",
            " 17  likes_count      228487 non-null  int64  \n",
            " 18  hashtags         228487 non-null  object \n",
            " 19  cashtags         228487 non-null  object \n",
            " 20  link             228487 non-null  object \n",
            " 21  retweet          228487 non-null  bool   \n",
            " 22  quote_url        9222 non-null    object \n",
            " 23  video            228487 non-null  int64  \n",
            " 24  thumbnail        104585 non-null  object \n",
            " 25  near             0 non-null       float64\n",
            " 26  geo              0 non-null       float64\n",
            " 27  source           0 non-null       float64\n",
            " 28  user_rt_id       0 non-null       float64\n",
            " 29  user_rt          0 non-null       float64\n",
            " 30  retweet_id       0 non-null       float64\n",
            " 31  reply_to         228487 non-null  object \n",
            " 32  retweet_date     0 non-null       float64\n",
            " 33  translate        0 non-null       float64\n",
            " 34  trans_src        0 non-null       float64\n",
            " 35  trans_dest       0 non-null       float64\n",
            "dtypes: bool(1), float64(13), int64(5), object(17)\n",
            "memory usage: 61.2+ MB\n"
          ]
        }
      ]
    },
    {
      "cell_type": "code",
      "source": [
        "df.isnull().sum()"
      ],
      "metadata": {
        "colab": {
          "base_uri": "https://localhost:8080/"
        },
        "id": "RTb90KvtYfz3",
        "outputId": "4b432781-f728-4fb7-f6b5-13e5e2f84d77"
      },
      "execution_count": null,
      "outputs": [
        {
          "output_type": "execute_result",
          "data": {
            "text/plain": [
              "id                      0\n",
              "conversation_id         0\n",
              "created_at              0\n",
              "date                    0\n",
              "time                    0\n",
              "timezone                0\n",
              "user_id                 0\n",
              "username                0\n",
              "name                    0\n",
              "place              228139\n",
              "tweet                   0\n",
              "language                0\n",
              "mentions                0\n",
              "urls                    0\n",
              "photos                  0\n",
              "replies_count           0\n",
              "retweets_count          0\n",
              "likes_count             0\n",
              "hashtags                0\n",
              "cashtags                0\n",
              "link                    0\n",
              "retweet                 0\n",
              "quote_url          219265\n",
              "video                   0\n",
              "thumbnail          123902\n",
              "near               228487\n",
              "geo                228487\n",
              "source             228487\n",
              "user_rt_id         228487\n",
              "user_rt            228487\n",
              "retweet_id         228487\n",
              "reply_to                0\n",
              "retweet_date       228487\n",
              "translate          228487\n",
              "trans_src          228487\n",
              "trans_dest         228487\n",
              "dtype: int64"
            ]
          },
          "metadata": {},
          "execution_count": 4
        }
      ]
    },
    {
      "cell_type": "code",
      "source": [
        "df.drop(['place','quote_url','thumbnail','near','geo','source','user_rt_id','user_rt','retweet_id','retweet_date','translate','trans_src','trans_dest'],axis=1,inplace=True)"
      ],
      "metadata": {
        "id": "T6BNEslfYh8T"
      },
      "execution_count": null,
      "outputs": []
    },
    {
      "cell_type": "code",
      "source": [
        "df.isnull().sum()"
      ],
      "metadata": {
        "colab": {
          "base_uri": "https://localhost:8080/"
        },
        "id": "kxwIJ63AYkb2",
        "outputId": "ccce187b-fb2b-46eb-b536-b6a0ea8cd0f2"
      },
      "execution_count": null,
      "outputs": [
        {
          "output_type": "execute_result",
          "data": {
            "text/plain": [
              "id                 0\n",
              "conversation_id    0\n",
              "created_at         0\n",
              "date               0\n",
              "time               0\n",
              "timezone           0\n",
              "user_id            0\n",
              "username           0\n",
              "name               0\n",
              "tweet              0\n",
              "language           0\n",
              "mentions           0\n",
              "urls               0\n",
              "photos             0\n",
              "replies_count      0\n",
              "retweets_count     0\n",
              "likes_count        0\n",
              "hashtags           0\n",
              "cashtags           0\n",
              "link               0\n",
              "retweet            0\n",
              "video              0\n",
              "reply_to           0\n",
              "dtype: int64"
            ]
          },
          "metadata": {},
          "execution_count": 6
        }
      ]
    },
    {
      "cell_type": "code",
      "source": [
        "df['year'] = pd.DatetimeIndex(df['date']).year\n",
        "sns.countplot(x ='year', data = df) \n",
        "plt.show()\n",
        "df['month'] = pd.DatetimeIndex(df['date']).month\n",
        "sns.countplot(x ='month', data = df) \n",
        "plt.show()"
      ],
      "metadata": {
        "colab": {
          "base_uri": "https://localhost:8080/",
          "height": 881
        },
        "id": "JSA19w7ZYl0j",
        "outputId": "588effbb-84d2-4dfb-9563-7fc7101cf687"
      },
      "execution_count": null,
      "outputs": [
        {
          "output_type": "display_data",
          "data": {
            "text/plain": [
              "<Figure size 640x480 with 1 Axes>"
            ],
            "image/png": "[encoded data removed]"
          },
          "metadata": {}
        },
        {
          "output_type": "display_data",
          "data": {
            "text/plain": [
              "<Figure size 640x480 with 1 Axes>"
            ],
            "image/png": "[encoded data removed]"
          },
          "metadata": {}
        }
      ]
    },
    {
      "cell_type": "code",
      "source": [
        "apostrophe_dict = {\n",
        "\"ain't\": \"am not / are not\",\n",
        "\"aren't\": \"are not / am not\",\n",
        "\"can't\": \"cannot\",\n",
        "\"can't've\": \"cannot have\",\n",
        "\"'cause\": \"because\",\n",
        "\"could've\": \"could have\",\n",
        "\"couldn't\": \"could not\",\n",
        "\"couldn't've\": \"could not have\",\n",
        "\"didn't\": \"did not\",\n",
        "\"doesn't\": \"does not\",\n",
        "\"don't\": \"do not\",\n",
        "\"hadn't\": \"had not\",\n",
        "\"hadn't've\": \"had not have\",\n",
        "\"hasn't\": \"has not\",\n",
        "\"haven't\": \"have not\",\n",
        "\"he'd\": \"he had / he would\",\n",
        "\"he'd've\": \"he would have\",\n",
        "\"he'll\": \"he shall / he will\",\n",
        "\"he'll've\": \"he shall have / he will have\",\n",
        "\"he's\": \"he has / he is\",\n",
        "\"how'd\": \"how did\",\n",
        "\"how'd'y\": \"how do you\",\n",
        "\"how'll\": \"how will\",\n",
        "\"how's\": \"how has / how is\",\n",
        "\"i'd\": \"I had / I would\",\n",
        "\"i'd've\": \"I would have\",\n",
        "\"i'll\": \"I shall / I will\",\n",
        "\"i'll've\": \"I shall have / I will have\",\n",
        "\"i'm\": \"I am\",\n",
        "\"i've\": \"I have\",\n",
        "\"isn't\": \"is not\",\n",
        "\"it'd\": \"it had / it would\",\n",
        "\"it'd've\": \"it would have\",\n",
        "\"it'll\": \"it shall / it will\",\n",
        "\"it'll've\": \"it shall have / it will have\",\n",
        "\"it's\": \"it has / it is\",\n",
        "\"let's\": \"let us\",\n",
        "\"ma'am\": \"madam\",\n",
        "\"mayn't\": \"may not\",\n",
        "\"might've\": \"might have\",\n",
        "\"mightn't\": \"might not\",\n",
        "\"mightn't've\": \"might not have\",\n",
        "\"must've\": \"must have\",\n",
        "\"mustn't\": \"must not\",\n",
        "\"mustn't've\": \"must not have\",\n",
        "\"needn't\": \"need not\",\n",
        "\"needn't've\": \"need not have\",\n",
        "\"o'clock\": \"of the clock\",\n",
        "\"oughtn't\": \"ought not\",\n",
        "\"oughtn't've\": \"ought not have\",\n",
        "\"shan't\": \"shall not\",\n",
        "\"sha'n't\": \"shall not\",\n",
        "\"shan't've\": \"shall not have\",\n",
        "\"she'd\": \"she had / she would\",\n",
        "\"she'd've\": \"she would have\",\n",
        "\"she'll\": \"she shall / she will\",\n",
        "\"she'll've\": \"she shall have / she will have\",\n",
        "\"she's\": \"she has / she is\",\n",
        "\"should've\": \"should have\",\n",
        "\"shouldn't\": \"should not\",\n",
        "\"shouldn't've\": \"should not have\",\n",
        "\"so've\": \"so have\",\n",
        "\"so's\": \"so as / so is\",\n",
        "\"that'd\": \"that would / that had\",\n",
        "\"that'd've\": \"that would have\",\n",
        "\"that's\": \"that has / that is\",\n",
        "\"there'd\": \"there had / there would\",\n",
        "\"there'd've\": \"there would have\",\n",
        "\"there's\": \"there has / there is\",\n",
        "\"they'd\": \"they had / they would\",\n",
        "\"they'd've\": \"they would have\",\n",
        "\"they'll\": \"they shall / they will\",\n",
        "\"they'll've\": \"they shall have / they will have\",\n",
        "\"they're\": \"they are\",\n",
        "\"they've\": \"they have\",\n",
        "\"to've\": \"to have\",\n",
        "\"wasn't\": \"was not\",\n",
        "\"we'd\": \"we had / we would\",\n",
        "\"we'd've\": \"we would have\",\n",
        "\"we'll\": \"we will\",\n",
        "\"we'll've\": \"we will have\",\n",
        "\"we're\": \"we are\",\n",
        "\"we've\": \"we have\",\n",
        "\"weren't\": \"were not\",\n",
        "\"what'll\": \"what shall / what will\",\n",
        "\"what'll've\": \"what shall have / what will have\",\n",
        "\"what're\": \"what are\",\n",
        "\"what's\": \"what has / what is\",\n",
        "\"what've\": \"what have\",\n",
        "\"when's\": \"when has / when is\",\n",
        "\"when've\": \"when have\",\n",
        "\"where'd\": \"where did\",\n",
        "\"where's\": \"where has / where is\",\n",
        "\"where've\": \"where have\",\n",
        "\"who'll\": \"who shall / who will\",\n",
        "\"who'll've\": \"who shall have / who will have\",\n",
        "\"who's\": \"who has / who is\",\n",
        "\"who've\": \"who have\",\n",
        "\"why's\": \"why has / why is\",\n",
        "\"why've\": \"why have\",\n",
        "\"will've\": \"will have\",\n",
        "\"won't\": \"will not\",\n",
        "\"won't've\": \"will not have\",\n",
        "\"would've\": \"would have\",\n",
        "\"wouldn't\": \"would not\",\n",
        "\"wouldn't've\": \"would not have\",\n",
        "\"y'all\": \"you all\",\n",
        "\"y'all'd\": \"you all would\",\n",
        "\"y'all'd've\": \"you all would have\",\n",
        "\"y'all're\": \"you all are\",\n",
        "\"y'all've\": \"you all have\",\n",
        "\"you'd\": \"you had / you would\",\n",
        "\"you'd've\": \"you would have\",\n",
        "\"you'll\": \"you shall / you will\",\n",
        "\"you'll've\": \"you shall have / you will have\",\n",
        "\"you're\": \"you are\",\n",
        "\"you've\": \"you have\",\n",
        "\"rt\":\"\",\n",
        "\"RT\":\"\",\n",
        "\"http\":\"\",\n",
        "\"https\":\"\"\n",
        "}\n",
        "\n",
        "def lookup_dict(text, dictionary):\n",
        "    for word in str(text).split():\n",
        "        if word.lower() in dictionary:\n",
        "            if word.lower() in str(text).split():\n",
        "                text = text.replace(word, dictionary[word.lower()])\n",
        "    return text\n",
        "\n",
        "df['tweet'] = df['tweet'].apply(lambda x: lookup_dict(x,apostrophe_dict))"
      ],
      "metadata": {
        "id": "Vmghxi-5Ynx_"
      },
      "execution_count": null,
      "outputs": []
    },
    {
      "cell_type": "code",
      "source": [
        "df.drop(['id','conversation_id',\n",
        "'created_at',\n",
        "'time',\n",
        "'timezone','user_id','username','name','language','mentions','urls',\n",
        "'photos','replies_count','retweets_count','likes_count','hashtags','link','retweet','video','reply_to','cashtags'],axis=1,inplace=True)"
      ],
      "metadata": {
        "id": "WlZQbV7lY4_j"
      },
      "execution_count": null,
      "outputs": []
    },
    {
      "cell_type": "code",
      "source": [
        "df['tweet'] =df['tweet'].apply(lambda x: word_tokenize(str(x)))\n",
        "stop_words = set(stopwords.words('english'))\n",
        "df['tweet'] = df['tweet'].apply(lambda x: [word for word in x if not word in stop_words])"
      ],
      "metadata": {
        "id": "gQeXAK4nY7_P"
      },
      "execution_count": null,
      "outputs": []
    },
    {
      "cell_type": "code",
      "source": [
        "def cleaning(text):\n",
        "    text = str(text)\n",
        "    text = text.lower()\n",
        "    text = re.sub('https?://\\S+|www\\.\\S+', '', text)\n",
        "    text = re.sub('<.*?>+', '', text)\n",
        "    text = re.sub('[%s]' % re.escape(string.punctuation), '', text)\n",
        "    text = re.sub('\\n', '', text)\n",
        "    text = re.sub('[’“”…]', '', text)     \n",
        "\n",
        "    emoji_pattern = re.compile(\"[\"\n",
        "                           u\"\\U0001F600-\\U0001F64F\"\n",
        "                           u\"\\U0001F300-\\U0001F5FF\"\n",
        "                           u\"\\U0001F680-\\U0001F6FF\"\n",
        "                           u\"\\U0001F1E0-\\U0001F1FF\"\n",
        "                           u\"\\U00002702-\\U000027B0\"\n",
        "                           u\"\\U000024C2-\\U0001F251\"\n",
        "                           \"]+\", flags=re.UNICODE)\n",
        "    text = emoji_pattern.sub(r'', text)   \n",
        "    \n",
        "    # removing the stop-words          \n",
        "    text_tokens = word_tokenize(text)\n",
        "    tokens_without_sw = [word for word in text_tokens if not word in stop_words]\n",
        "    filtered_sentence = (\" \").join(tokens_without_sw)\n",
        "    text = filtered_sentence\n",
        "    \n",
        "    return text\n",
        "\n",
        "dt = df['tweet'].apply(cleaning)"
      ],
      "metadata": {
        "id": "VM1Hu3Z4Y-E0"
      },
      "execution_count": null,
      "outputs": []
    },
    {
      "cell_type": "code",
      "source": [
        "from textblob import TextBlob\n",
        "def GetTextSubjectivity(txt):\n",
        "    txt=str(txt)\n",
        "    return TextBlob(txt).sentiment.subjectivity\n",
        "\n",
        "def GetTextPolarity(txt):\n",
        "    txt=str(txt)\n",
        "    return TextBlob(txt).sentiment.polarity\n",
        "\n",
        "df['Subjectivity'] = df['tweet'].apply(GetTextSubjectivity)\n",
        "df['Polarity'] = df['tweet'].apply(GetTextPolarity)\n",
        "\n",
        "def GetTextAnalysis(a):\n",
        "    if a<0:\n",
        "        return \"Negative\"\n",
        "    elif a==0:\n",
        "        return \"Neutral\"\n",
        "    else:\n",
        "        return \"Positive\"\n",
        "    \n",
        "df[\"Score\"]=df['Polarity'].apply(GetTextAnalysis)"
      ],
      "metadata": {
        "id": "RCNl8c3MZAew"
      },
      "execution_count": null,
      "outputs": []
    },
    {
      "cell_type": "code",
      "source": [
        "positive=df[df['Score']=='Positive']\n",
        "print (str(round(positive.shape[0]/(df.shape[0])*100)) + \"% Positive tweets\")\n",
        "pos = positive.shape[0]/(df.shape[0])*100\n",
        "\n",
        "negative=df[df['Score']=='Negative']\n",
        "print (str(round(negative.shape[0]/(df.shape[0])*100)) + \"% Negative tweets\")\n",
        "neg = negative.shape[0]/df.shape[0]*100\n",
        "\n",
        "neutral=df[df['Score']=='Neutral']\n",
        "print (str(round((neutral.shape[0])/(df.shape[0])*100)) + \"% neutral tweets\")\n",
        "neu = neutral.shape[0]/df.shape[0]*100"
      ],
      "metadata": {
        "id": "NfoVec1rZDnL"
      },
      "execution_count": null,
      "outputs": []
    },
    {
      "cell_type": "code",
      "source": [
        "explode=(0.05,0,0)\n",
        "labels = 'positive','negative','neutral'\n",
        "sizes = [pos,neg,neu]\n",
        "colours=['#9BBFE0','#E8A09A','#FBE29F']\n",
        "plt.pie(sizes,explode=explode,colors=colours,autopct='%.2f%%',startangle=0)\n",
        "plt.title('Percentage of Sentiment in all Tweets \\n', fontsize=24)\n",
        "plt.legend(labels,loc=(-0.05,0.05),shadow=True)\n",
        "plt.axis('equal')"
      ],
      "metadata": {
        "id": "Vr2B8GdwZF9y"
      },
      "execution_count": null,
      "outputs": []
    }
  ]
}